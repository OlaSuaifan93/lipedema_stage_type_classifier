{
 "cells": [
  {
   "cell_type": "code",
   "execution_count": 1,
   "id": "36e9329c",
   "metadata": {},
   "outputs": [],
   "source": [
    "import os"
   ]
  },
  {
   "cell_type": "code",
   "execution_count": 2,
   "id": "cd4c13fa",
   "metadata": {},
   "outputs": [
    {
     "data": {
      "text/plain": [
       "'/Users/olasuaifan/Desktop/University/projects/lipedema_stage_type_classifier/research'"
      ]
     },
     "execution_count": 2,
     "metadata": {},
     "output_type": "execute_result"
    }
   ],
   "source": [
    "%pwd"
   ]
  },
  {
   "cell_type": "code",
   "execution_count": 3,
   "id": "7e3b67e8",
   "metadata": {},
   "outputs": [],
   "source": [
    "os.chdir(\"../\")"
   ]
  },
  {
   "cell_type": "code",
   "execution_count": 4,
   "id": "5bc444cd",
   "metadata": {},
   "outputs": [
    {
     "data": {
      "text/plain": [
       "'/Users/olasuaifan/Desktop/University/projects/lipedema_stage_type_classifier'"
      ]
     },
     "execution_count": 4,
     "metadata": {},
     "output_type": "execute_result"
    }
   ],
   "source": [
    "%pwd"
   ]
  },
  {
   "cell_type": "code",
   "execution_count": 5,
   "id": "1fea50d7",
   "metadata": {},
   "outputs": [
    {
     "name": "stderr",
     "output_type": "stream",
     "text": [
      "2025-08-28 12:26:41.227053: I tensorflow/core/platform/cpu_feature_guard.cc:210] This TensorFlow binary is optimized to use available CPU instructions in performance-critical operations.\n",
      "To enable the following instructions: AVX2 FMA, in other operations, rebuild TensorFlow with the appropriate compiler flags.\n"
     ]
    }
   ],
   "source": [
    "import numpy as np\n",
    "from tensorflow.keras.models import load_model\n",
    "from tensorflow.keras.preprocessing import image\n",
    "import os"
   ]
  },
  {
   "cell_type": "code",
   "execution_count": 6,
   "id": "e2ffecb1",
   "metadata": {},
   "outputs": [
    {
     "name": "stderr",
     "output_type": "stream",
     "text": [
      "WARNING:absl:Compiled the loaded model, but the compiled metrics have yet to be built. `model.compile_metrics` will be empty until you train or evaluate the model.\n"
     ]
    }
   ],
   "source": [
    "model = load_model(os.path.join(\"artifacts\",\"training\", \"model.h5\"))\n"
   ]
  },
  {
   "cell_type": "code",
   "execution_count": 14,
   "id": "dc1cfdf9",
   "metadata": {},
   "outputs": [],
   "source": [
    "imagename=\"specific practicies piechart.png\"\n"
   ]
  },
  {
   "cell_type": "code",
   "execution_count": 15,
   "id": "45fd5bd3",
   "metadata": {},
   "outputs": [],
   "source": [
    "test_image = image.load_img(imagename, target_size = (224,224))"
   ]
  },
  {
   "cell_type": "code",
   "execution_count": 16,
   "id": "3e85260a",
   "metadata": {},
   "outputs": [],
   "source": [
    "test_image = image.img_to_array(test_image)\n"
   ]
  },
  {
   "cell_type": "code",
   "execution_count": 17,
   "id": "27b42d3c",
   "metadata": {},
   "outputs": [],
   "source": [
    "test_image = np.expand_dims(test_image, axis = 0)\n",
    "        "
   ]
  },
  {
   "cell_type": "code",
   "execution_count": 18,
   "id": "72d504c0",
   "metadata": {},
   "outputs": [
    {
     "name": "stdout",
     "output_type": "stream",
     "text": [
      "\u001b[1m1/1\u001b[0m \u001b[32m━━━━━━━━━━━━━━━━━━━━\u001b[0m\u001b[37m\u001b[0m \u001b[1m0s\u001b[0m 368ms/step\n",
      "[17]\n"
     ]
    }
   ],
   "source": [
    "result = np.argmax(model.predict(test_image), axis=1)\n",
    "print(result)"
   ]
  },
  {
   "cell_type": "code",
   "execution_count": null,
   "id": "c72c9f10",
   "metadata": {},
   "outputs": [],
   "source": []
  },
  {
   "cell_type": "code",
   "execution_count": 19,
   "id": "6e93b183",
   "metadata": {},
   "outputs": [
    {
     "name": "stdout",
     "output_type": "stream",
     "text": [
      "Stage4_Type3\n"
     ]
    }
   ],
   "source": [
    "if result == [0]:\n",
    "    prediction = \"Stage1_Type1\"\n",
    "elif result == [1]:\n",
    "    prediction = \"Stage1_Type2\"\n",
    "elif result == [2]:\n",
    "    prediction = \"Stage1_Type3\"\n",
    "elif result == [3]:\n",
    "    prediction = \"Stage1_Type4\"\n",
    "elif result == [4]:\n",
    "    prediction = \"Stage1_Type5\"\n",
    "elif result == [5]:\n",
    "    prediction = \"Stage2_Type1\"\n",
    "elif result == [6]:\n",
    "    prediction = \"Stage2_Type2\"\n",
    "elif result == [7]:\n",
    "    prediction = \"Stage2_Type3\"\n",
    "elif result == [8]:\n",
    "    prediction = \"Stage2_Type4\"\n",
    "elif result == [9]:\n",
    "    prediction = \"Stage2_Type5\"\n",
    "elif result == [10]:\n",
    "    prediction = \"Stage3_Type1\"\n",
    "elif result == [11]:\n",
    "    prediction = \"Stage3_Type2\"\n",
    "elif result == [12]:\n",
    "    prediction = \"Stage3_Type3\"\n",
    "elif result == [13]:\n",
    "    prediction = \"Stage3_Type4\"\n",
    "elif result == [14]:\n",
    "    prediction = \"Stage3_Type5\"\n",
    "elif result == [15]:\n",
    "    prediction = \"Stage4_Type1\"\n",
    "elif result == [16]:\n",
    "    prediction = \"Stage4_Type2\"\n",
    "elif result == [17]:\n",
    "    prediction = \"Stage4_Type3\"\n",
    "elif result == [18]:\n",
    "    prediction = \"Stage4_Type4\"\n",
    "elif result == [19]:\n",
    "    prediction = \"Stage4_Type5\"\n",
    "else:\n",
    "    prediction = \"Unknown\"\n",
    "\n",
    "#return [{\"image\": prediction}]\n",
    "\n",
    "print(prediction)\n",
    "\n"
   ]
  }
 ],
 "metadata": {
  "kernelspec": {
   "display_name": "lipedema",
   "language": "python",
   "name": "python3"
  },
  "language_info": {
   "codemirror_mode": {
    "name": "ipython",
    "version": 3
   },
   "file_extension": ".py",
   "mimetype": "text/x-python",
   "name": "python",
   "nbconvert_exporter": "python",
   "pygments_lexer": "ipython3",
   "version": "3.11.13"
  }
 },
 "nbformat": 4,
 "nbformat_minor": 5
}
